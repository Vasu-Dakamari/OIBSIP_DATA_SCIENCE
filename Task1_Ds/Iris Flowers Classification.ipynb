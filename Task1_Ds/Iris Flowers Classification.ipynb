{
 "cells": [
  {
   "cell_type": "code",
   "execution_count": null,
   "id": "719ec871",
   "metadata": {},
   "outputs": [],
   "source": [
    "import numpy as np\n",
    "import pandas as pd\n",
    "import matplotlib.pyplot as plt\n",
    "import seaborn as sns"
   ]
  },
  {
   "cell_type": "code",
   "execution_count": null,
   "id": "5c918df9",
   "metadata": {},
   "outputs": [],
   "source": [
    "# Data reading\n",
    "data=pd.read_csv(\"iris.csv\")\n",
    "data"
   ]
  },
  {
   "cell_type": "code",
   "execution_count": null,
   "id": "5d8150e8",
   "metadata": {},
   "outputs": [],
   "source": [
    "#Top head records\n",
    "data.head()"
   ]
  },
  {
   "cell_type": "code",
   "execution_count": null,
   "id": "7cbdc678",
   "metadata": {},
   "outputs": [],
   "source": [
    "# last 5 reacords\n",
    "data.tail()"
   ]
  },
  {
   "cell_type": "code",
   "execution_count": null,
   "id": "2fc9a674",
   "metadata": {},
   "outputs": [],
   "source": [
    "# Describing that data\n",
    "data.describe()"
   ]
  },
  {
   "cell_type": "code",
   "execution_count": null,
   "id": "a48d770b",
   "metadata": {},
   "outputs": [],
   "source": [
    "# Visualizing that data\n",
    "sns.pairplot(data,hue=\"Species\") #checking the which flower having high and low length& width"
   ]
  },
  {
   "cell_type": "code",
   "execution_count": null,
   "id": "79441715",
   "metadata": {},
   "outputs": [],
   "source": [
    "# Now let's sepparate the data\n",
    "df=data.values #we are importing the flower data values on one variable df\n",
    "x=df[:,0:5]\n",
    "y=df[:,5]\n",
    "\n",
    "df # so the actual values of the data in this we having 6 columns and 150 rows"
   ]
  },
  {
   "cell_type": "code",
   "execution_count": null,
   "id": "39bc41f3",
   "metadata": {},
   "outputs": [],
   "source": [
    "x # x value here i am taking only 5 columns and 150 rows"
   ]
  },
  {
   "cell_type": "code",
   "execution_count": null,
   "id": "bc99687d",
   "metadata": {},
   "outputs": [],
   "source": [
    "y # y value here i am taking it only prints the last varibles in the column"
   ]
  },
  {
   "cell_type": "code",
   "execution_count": null,
   "id": "72a51e31",
   "metadata": {},
   "outputs": [],
   "source": [
    "# Preparing and spliting the data into testing and training\n",
    "from sklearn.model_selection import train_test_split\n",
    "x_train,x_test,y_train,y_test=train_test_split(x,y,test_size=0.2) #Here we splitting data into 20% of test and 80% train"
   ]
  },
  {
   "cell_type": "markdown",
   "id": "01dccd27",
   "metadata": {},
   "source": [
    "### Support Vector Machine"
   ]
  },
  {
   "cell_type": "code",
   "execution_count": null,
   "id": "61966483",
   "metadata": {},
   "outputs": [],
   "source": [
    "from sklearn.svm import SVC #importing the support vector machines as svc\n",
    "\n",
    "# Fitting the training data into the model\n",
    "model_svc = SVC()\n",
    "model_svc.fit(x_train,y_train)"
   ]
  },
  {
   "cell_type": "code",
   "execution_count": null,
   "id": "e29cf4bf",
   "metadata": {},
   "outputs": [],
   "source": [
    "prediction1= model_svc.predict(x_test)\n",
    "# Now we are going to caluclating the accurace\n",
    "\n",
    "from sklearn.metrics import accuracy_score\n",
    " # from here we are caluclating the accuracy score \n",
    "print(accuracy_score(y_test,prediction1)*100)"
   ]
  },
  {
   "cell_type": "code",
   "execution_count": null,
   "id": "a375807a",
   "metadata": {},
   "outputs": [],
   "source": [
    "# if you want to check manually you can use this form prediction\n",
    "for i in range(len(prediction1)):\n",
    "    print(y_test[i],prediction1[i]) #here we can check manually"
   ]
  },
  {
   "cell_type": "code",
   "execution_count": null,
   "id": "f33b360e",
   "metadata": {},
   "outputs": [],
   "source": []
  }
 ],
 "metadata": {
  "kernelspec": {
   "display_name": "Python 3 (ipykernel)",
   "language": "python",
   "name": "python3"
  },
  "language_info": {
   "codemirror_mode": {
    "name": "ipython",
    "version": 3
   },
   "file_extension": ".py",
   "mimetype": "text/x-python",
   "name": "python",
   "nbconvert_exporter": "python",
   "pygments_lexer": "ipython3",
   "version": "3.11.2"
  }
 },
 "nbformat": 4,
 "nbformat_minor": 5
}
